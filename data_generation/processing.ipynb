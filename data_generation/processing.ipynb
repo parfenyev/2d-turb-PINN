{
 "cells": [
  {
   "cell_type": "markdown",
   "metadata": {},
   "source": [
    "# Data Loading"
   ]
  },
  {
   "cell_type": "code",
   "execution_count": null,
   "metadata": {},
   "outputs": [],
   "source": [
    "using GeophysicalFlows, Random, Printf, Plots, JLD2, Statistics, CUDA, FFTW, HDF5\n",
    "using LinearAlgebra: mul!, ldiv!\n",
    "parsevalsum = FourierFlows.parsevalsum\n",
    "\n",
    "dev = CPU()     # Device (CPU/GPU)\n",
    "\n",
    "# ## Numerical, domain, and simulation parameters\n",
    "\n",
    " n, L  = 512, 2π             # grid resolution and domain length\n",
    " ν, nν = 0.01, 1             # viscosity coefficient and hyperviscosity order\n",
    " μ, nμ = 0.1, 0              # linear drag coefficient\n",
    "    dt = 0.0002              # timestep\n",
    "nsteps = 20000               # total number of steps\n",
    " nsubs = 100                 # number of steps between each plot\n",
    "\n",
    "\n",
    "grid = TwoDGrid(dev; nx=n, Lx=L)\n",
    "K = @. sqrt(grid.Krsq)    # a 2D array with the total wavenumber\n",
    "\n",
    "x, y = grid.x, grid.y\n",
    "\n",
    "nothing # hide"
   ]
  },
  {
   "cell_type": "code",
   "execution_count": null,
   "metadata": {},
   "outputs": [],
   "source": [
    "data = jldopen(\"/storage/p2/parfenyev/2d_turbulence/pinn/get_data/alpha_0.1/alpha_01_v2.jld2\")\n",
    "\n",
    "nothing # hide"
   ]
  },
  {
   "cell_type": "markdown",
   "metadata": {},
   "source": [
    "# Vorticity Visualization"
   ]
  },
  {
   "cell_type": "code",
   "execution_count": null,
   "metadata": {},
   "outputs": [],
   "source": [
    "Num = 200 # Number of snapshots under analysis\n",
    "\n",
    "vort_h = [ Matrix{ComplexF64}(undef,Int(n/2+1),Int(n)) for _ in 1:Num ]\n",
    "vort = [ Matrix{Float64}(undef,Int(n),Int(n)) for _ in 1:Num ]\n",
    "\n",
    "for i in 1:Num\n",
    "    number = i*nsubs\n",
    "    name = \"snapshots/sol/\"*string(number)\n",
    "    vort_h[i] = data[name] # Vorticity in k-space\n",
    "    ldiv!(vort[i], grid.rfftplan, deepcopy(vort_h[i])) # Vorticity in x-space\n",
    "end"
   ]
  },
  {
   "cell_type": "code",
   "execution_count": null,
   "metadata": {},
   "outputs": [],
   "source": [
    "using LaTeXStrings\n",
    "\n",
    "p = heatmap(2*x/L, 2*y/L, Array(vort[70]'),\n",
    "         aspectratio = 1,\n",
    "                   c = :balance,\n",
    "                clim = (-55, 55),\n",
    "               xlims = (-1, 1),\n",
    "               ylims = (-1, 1),\n",
    "              xticks = -3:3,\n",
    "              yticks = -3:3,\n",
    "              xlabel = L\"x/L\",\n",
    "              ylabel = L\"y/L\",\n",
    "          framestyle = :box, thickness_scaling=1.6, legend=true)\n",
    "\n",
    "savefig(p, \"./vort.svg\")"
   ]
  },
  {
   "cell_type": "markdown",
   "metadata": {},
   "source": [
    "# Energy Spectrum"
   ]
  },
  {
   "cell_type": "code",
   "execution_count": null,
   "metadata": {},
   "outputs": [],
   "source": [
    "using Statistics\n",
    "\n",
    "energy_h = [ Matrix{ComplexF64}(undef,Int(n/2+1),Int(n)) for _ in 1:Num ]\n",
    "Ehr = [ Matrix{ComplexF64}(undef, Int(n),1) for _ in 1:Num ]\n",
    "energy = zeros(Num)\n",
    "\n",
    "E_av_rad = zeros(Int(n),1)\n",
    "\n",
    "for i in 1:Num\n",
    "    @. energy_h[i] = 1 / 2 * grid.invKrsq * abs2(vort_h[i])\n",
    "    energy[i] = 1 / (grid.Lx * grid.Ly) * parsevalsum(energy_h[i], grid)\n",
    "    \n",
    "    kr, Ehr[i] = FourierFlows.radialspectrum(energy_h[i]/(grid.Lx * grid.Ly), grid, refinement=1)\n",
    "    E_av_rad+=abs.(Ehr[i])/Num\n",
    "end"
   ]
  },
  {
   "cell_type": "code",
   "execution_count": null,
   "metadata": {},
   "outputs": [],
   "source": [
    "kr, Ehr[1] = FourierFlows.radialspectrum(energy_h[1]/(grid.Lx * grid.Ly), grid, refinement=1)\n",
    "norm = grid.Lx * grid.Ly / (grid.nx^2 * grid.ny^2) # нормировка для Фурье из суммы Парсевалля\n",
    "\n",
    "plot(kr, E_av_rad*norm, thickness_scaling=1.6,\n",
    "    linewidth = 2,\n",
    "        alpha = 0.7,\n",
    "       xlabel = L\"k\", ylabel = L\"E(k)\",\n",
    "        xlims = (1, grid.nx/2), xminorticks=9,\n",
    "        ylims = (1e-15,1e2), yticks=[1e-12, 1e-6, 1],\n",
    "       xscale = :log10, yscale = :log10,\n",
    "       label = false,\n",
    "   framestyle = :box)\n",
    "\n",
    "plt = plot!(kr[11:400], 1e5*kr[11:400].^(-5.5), label=false, ls=:dash, color=:black)\n",
    "\n",
    "savefig(plt, \"./spectr.svg\")"
   ]
  },
  {
   "cell_type": "markdown",
   "metadata": {},
   "source": [
    "# Video"
   ]
  },
  {
   "cell_type": "code",
   "execution_count": null,
   "metadata": {},
   "outputs": [],
   "source": [
    "p1 = heatmap(x, y, Array(vort[1]'),\n",
    "         aspectratio = 1,\n",
    "                   c = :balance,\n",
    "                clim = (-50, 50),\n",
    "               xlims = (-L/2, L/2),\n",
    "               ylims = (-L/2, L/2),\n",
    "              xticks = -3:3,\n",
    "              yticks = -3:3,\n",
    "              xlabel = \"x\",\n",
    "              ylabel = \"y\",\n",
    "               title = \"vorticity\",\n",
    "          framestyle = :box)\n",
    "\n",
    "p2 = plot(1, # this means \"a plot with two series\"\n",
    "               ylabel = \"Mean Kinetic Energy\",\n",
    "              legend = false,\n",
    "           linewidth = 2,\n",
    "               alpha = 0.7,\n",
    "              xlabel = \"time\",\n",
    "               xlims = (0, 1.01 * Num * nsubs * dt),\n",
    "               ylims = (8.0, 10.0),\n",
    "         aspectratio = 1)\n",
    "\n",
    "#l = @layout Plots.grid(1, 2)\n",
    "p = plot(p1, p2, layout = (1,2), size = (850, 420))\n",
    "\n",
    "nothing"
   ]
  },
  {
   "cell_type": "code",
   "execution_count": null,
   "metadata": {},
   "outputs": [],
   "source": [
    "anim = @animate for j = 1:Num\n",
    "  p[1][1][:z] = Array(vort[j])\n",
    "  p[1][:title] = \"vorticity, t = \" * @sprintf(\"%.2f\", j*dt*nsubs)\n",
    "  push!(p[2][1], j*dt*nsubs, energy[j])\n",
    "end\n",
    "\n",
    "mp4(anim, \"video.mp4\", fps=18)\n",
    "\n",
    "nothing"
   ]
  },
  {
   "cell_type": "markdown",
   "metadata": {},
   "source": [
    "# Save Vorticity"
   ]
  },
  {
   "cell_type": "code",
   "execution_count": null,
   "metadata": {},
   "outputs": [],
   "source": [
    "vort_to_save = zeros(200, 512, 512) \n",
    "\n",
    "for i in 1:200\n",
    "    vort_to_save[i,:,:]=vort[i]\n",
    "end\n",
    "\n",
    "h5write(\"./vort-prod.h5\", \"vorticity\", vort_to_save)"
   ]
  },
  {
   "cell_type": "markdown",
   "metadata": {},
   "source": [
    "# Velocity field"
   ]
  },
  {
   "cell_type": "code",
   "execution_count": null,
   "metadata": {},
   "outputs": [],
   "source": [
    "uh = [ Matrix{ComplexF64}(undef,Int(n/2+1),Int(n)) for _ in 1:Num ] \n",
    "vh = [ Matrix{ComplexF64}(undef,Int(n/2+1),Int(n)) for _ in 1:Num ]\n",
    "u = [ Matrix{Float64}(undef,Int(n),Int(n)) for _ in 1:Num ]\n",
    "v = [ Matrix{Float64}(undef,Int(n),Int(n)) for _ in 1:Num ]\n",
    "\n",
    "for i in 1:Num\n",
    "    @. uh[i] =   im * grid.l  * grid.invKrsq * vort_h[i]\n",
    "    @. vh[i] = - im * grid.kr * grid.invKrsq * vort_h[i]\n",
    "    ldiv!(u[i], grid.rfftplan, deepcopy(uh[i]))\n",
    "    ldiv!(v[i], grid.rfftplan, deepcopy(vh[i]))\n",
    "end"
   ]
  },
  {
   "cell_type": "code",
   "execution_count": null,
   "metadata": {},
   "outputs": [],
   "source": [
    "u_to_save = zeros(Num, 512, 512) \n",
    "v_to_save = zeros(Num, 512, 512)\n",
    "\n",
    "for i in 1:Num\n",
    "    u_to_save[i,:,:]=u[i]\n",
    "    v_to_save[i,:,:]=v[i]\n",
    "end\n",
    "\n",
    "h5write(\"./vel-u-prod.h5\", \"vel-u\", u_to_save)\n",
    "h5write(\"./vel-v-prod.h5\", \"vel-v\", v_to_save)"
   ]
  },
  {
   "cell_type": "markdown",
   "metadata": {},
   "source": [
    "# Pressure Field"
   ]
  },
  {
   "cell_type": "code",
   "execution_count": null,
   "metadata": {},
   "outputs": [],
   "source": [
    "dx_uh = [ Matrix{ComplexF64}(undef,Int(n/2+1),Int(n)) for _ in 1:Num ]\n",
    "dx_vh = [ Matrix{ComplexF64}(undef,Int(n/2+1),Int(n)) for _ in 1:Num ]\n",
    "dy_uh = [ Matrix{ComplexF64}(undef,Int(n/2+1),Int(n)) for _ in 1:Num ]\n",
    "p_h = [ Matrix{ComplexF64}(undef,Int(n/2+1),Int(n)) for _ in 1:Num ]\n",
    "rhs_h = [ Matrix{ComplexF64}(undef,Int(n/2+1),Int(n)) for _ in 1:Num ]\n",
    "\n",
    "dx_u = [ Matrix{Float64}(undef,Int(n),Int(n)) for _ in 1:Num ]\n",
    "dx_v = [ Matrix{Float64}(undef,Int(n),Int(n)) for _ in 1:Num ]\n",
    "dy_u = [ Matrix{Float64}(undef,Int(n),Int(n)) for _ in 1:Num ]\n",
    "rhs = [ Matrix{Float64}(undef,Int(n),Int(n)) for _ in 1:Num ]\n",
    "p = [ Matrix{Float64}(undef,Int(n),Int(n)) for _ in 1:Num ]\n",
    "\n",
    "for i in 1:Num\n",
    "    @. dx_uh[i] =   im * grid.kr  * uh[i]\n",
    "    @. dx_vh[i] =   im * grid.kr  * vh[i]\n",
    "    @. dy_uh[i] =   im * grid.l  * uh[i]    \n",
    "    ldiv!(dx_u[i], grid.rfftplan, deepcopy(dx_uh[i]))\n",
    "    ldiv!(dx_v[i], grid.rfftplan, deepcopy(dx_vh[i]))\n",
    "    ldiv!(dy_u[i], grid.rfftplan, deepcopy(dy_uh[i]))\n",
    "    \n",
    "    @. rhs[i] = 2*dx_u[i]^2 + 2*dx_v[i]*dy_u[i]\n",
    "    mul!(rhs_h[i], grid.rfftplan, deepcopy(rhs[i]))\n",
    "    \n",
    "    @. p_h[i] = grid.invKrsq * rhs_h[i]\n",
    "    ldiv!(p[i], grid.rfftplan, deepcopy(p_h[i]))\n",
    "end"
   ]
  },
  {
   "cell_type": "code",
   "execution_count": null,
   "metadata": {},
   "outputs": [],
   "source": [
    "p_to_save = zeros(Num, 512, 512) \n",
    "\n",
    "for i in 1:Num\n",
    "    p_to_save[i,:,:]=p[i]\n",
    "end\n",
    "\n",
    "h5write(\"./p-prod.h5\", \"p\", p_to_save)"
   ]
  },
  {
   "cell_type": "code",
   "execution_count": null,
   "metadata": {},
   "outputs": [],
   "source": []
  }
 ],
 "metadata": {
  "kernelspec": {
   "display_name": "Julia 1.9.3",
   "language": "julia",
   "name": "julia-1.9"
  },
  "language_info": {
   "file_extension": ".jl",
   "mimetype": "application/julia",
   "name": "julia",
   "version": "1.9.3"
  }
 },
 "nbformat": 4,
 "nbformat_minor": 4
}
